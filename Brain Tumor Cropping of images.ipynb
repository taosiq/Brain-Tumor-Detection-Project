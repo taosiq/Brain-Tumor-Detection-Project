{
 "cells": [
  {
   "cell_type": "code",
   "execution_count": 1,
   "id": "4ff66d49",
   "metadata": {},
   "outputs": [
    {
     "ename": "ModuleNotFoundError",
     "evalue": "No module named 'imutils'",
     "output_type": "error",
     "traceback": [
      "\u001b[1;31m---------------------------------------------------------------------------\u001b[0m",
      "\u001b[1;31mModuleNotFoundError\u001b[0m                       Traceback (most recent call last)",
      "Cell \u001b[1;32mIn[1], line 5\u001b[0m\n\u001b[0;32m      3\u001b[0m \u001b[38;5;28;01mimport\u001b[39;00m \u001b[38;5;21;01mcv2\u001b[39;00m\n\u001b[0;32m      4\u001b[0m \u001b[38;5;28;01mimport\u001b[39;00m \u001b[38;5;21;01mos\u001b[39;00m\n\u001b[1;32m----> 5\u001b[0m \u001b[38;5;28;01mimport\u001b[39;00m \u001b[38;5;21;01mimutils\u001b[39;00m\n",
      "\u001b[1;31mModuleNotFoundError\u001b[0m: No module named 'imutils'"
     ]
    }
   ],
   "source": [
    "import numpy as np \n",
    "from tqdm import tqdm\n",
    "import cv2\n",
    "import os\n",
    "import imutils"
   ]
  },
  {
   "cell_type": "code",
   "execution_count": 3,
   "id": "0cb7bfc1",
   "metadata": {},
   "outputs": [],
   "source": [
    "def crop_img(img):\n",
    "\t\"\"\"\n",
    "\tFinds the extreme points on the image and crops the rectangular out of them\n",
    "\t\"\"\"\n",
    "\tgray = cv2.cvtColor(img, cv2.COLOR_RGB2GRAY)\n",
    "\tgray = cv2.GaussianBlur(gray, (3, 3), 0)\n",
    "\n",
    "\t# threshold the image, then perform a series of erosions +\n",
    "\t# dilations to remove any small regions of noise\n",
    "\tthresh = cv2.threshold(gray, 45, 255, cv2.THRESH_BINARY)[1]\n",
    "\tthresh = cv2.erode(thresh, None, iterations=2)\n",
    "\tthresh = cv2.dilate(thresh, None, iterations=2)\n",
    "\n",
    "\t# find contours in thresholded image, then grab the largest one\n",
    "\tcnts = cv2.findContours(thresh.copy(), cv2.RETR_EXTERNAL, cv2.CHAIN_APPROX_SIMPLE)\n",
    "\tcnts = imutils.grab_contours(cnts)\n",
    "\tc = max(cnts, key=cv2.contourArea)\n",
    "\n",
    "\t# find the extreme points\n",
    "\textLeft = tuple(c[c[:, :, 0].argmin()][0])\n",
    "\textRight = tuple(c[c[:, :, 0].argmax()][0])\n",
    "\textTop = tuple(c[c[:, :, 1].argmin()][0])\n",
    "\textBot = tuple(c[c[:, :, 1].argmax()][0])\n",
    "\tADD_PIXELS = 0\n",
    "\tnew_img = img[extTop[1]-ADD_PIXELS:extBot[1]+ADD_PIXELS, extLeft[0]-ADD_PIXELS:extRight[0]+ADD_PIXELS].copy()\n",
    "\t\n",
    "\treturn new_img\n",
    "\t\n"
   ]
  },
  {
   "cell_type": "code",
   "execution_count": 4,
   "id": "3f4c4874",
   "metadata": {},
   "outputs": [],
   "source": [
    "if __name__ == \"__main__\":\n",
    "\ttraining = \"brain_tumour/Training\"\n",
    "\ttesting = \"brain_tumour/Testing\"\n",
    "\ttraining_dir = os.listdir(training)\n",
    "\ttesting_dir = os.listdir(testing)\n",
    "\tIMG_SIZE = 256\n",
    "\n",
    "\tfor dir in training_dir:\n",
    "\t\tsave_path = 'brain_tumour/cropped/Training/'+ dir\n",
    "\t\tpath = os.path.join(training,dir)\n",
    "\t\timage_dir = os.listdir(path)\n",
    "\t\tfor img in image_dir:\n",
    "\t\t\timage = cv2.imread(os.path.join(path,img))\n",
    "\t\t\tnew_img = crop_img(image)\n",
    "\t\t\tnew_img = cv2.resize(new_img,(IMG_SIZE,IMG_SIZE))\n",
    "\t\t\tif not os.path.exists(save_path):\n",
    "\t\t\t\tos.makedirs(save_path)\n",
    "\t\t\tcv2.imwrite(save_path+'/'+img, new_img)\n",
    "\t\n",
    "\tfor dir in testing_dir:\n",
    "\t\tsave_path = 'brain_tumour/cropped/Testing/'+ dir\n",
    "\t\tpath = os.path.join(testing,dir)\n",
    "\t\timage_dir = os.listdir(path)\n",
    "\t\tfor img in image_dir:\n",
    "\t\t\timage = cv2.imread(os.path.join(path,img))\n",
    "\t\t\tnew_img = crop_img(image)\n",
    "\t\t\tnew_img = cv2.resize(new_img,(IMG_SIZE,IMG_SIZE))\n",
    "\t\t\tif not os.path.exists(save_path):\n",
    "\t\t\t\tos.makedirs(save_path)\n",
    "\t\t\tcv2.imwrite(save_path+'/'+img, new_img)"
   ]
  },
  {
   "cell_type": "code",
   "execution_count": null,
   "id": "944b51a2",
   "metadata": {},
   "outputs": [],
   "source": []
  }
 ],
 "metadata": {
  "kernelspec": {
   "display_name": "Python 3",
   "language": "python",
   "name": "python3"
  },
  "language_info": {
   "codemirror_mode": {
    "name": "ipython",
    "version": 3
   },
   "file_extension": ".py",
   "mimetype": "text/x-python",
   "name": "python",
   "nbconvert_exporter": "python",
   "pygments_lexer": "ipython3",
   "version": "3.11.3"
  }
 },
 "nbformat": 4,
 "nbformat_minor": 5
}
